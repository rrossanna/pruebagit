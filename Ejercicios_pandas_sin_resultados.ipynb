{
  "cells": [
    {
      "cell_type": "markdown",
      "metadata": {
        "id": "wyQdNWVreNbF"
      },
      "source": [
        "### Ejercicio 1\n",
        "Leer el fichero estudiantes.csv, utilizando la libreria Pandas.\n",
        "Mostrar los 5 primeros elementos"
      ]
    },
    {
      "cell_type": "code",
      "source": [
        "import pandas as pd\n",
        "estudiantes_df = pd.read_csv(\"estudiantes.csv\")\n",
        "print (estudiantes_df.head())\n"
      ],
      "metadata": {
        "colab": {
          "base_uri": "https://localhost:8080/"
        },
        "id": "Hef1cT-ieWH1",
        "outputId": "59b69805-2b9a-46b2-aff2-c717cd3f610c"
      },
      "execution_count": null,
      "outputs": [
        {
          "output_type": "stream",
          "name": "stdout",
          "text": [
            "   Nombre  Edad  Nota Asignatura_preferida\n",
            "0  Alicia    14     9          Matematicas\n",
            "1   Mikel    15    10             Ciencias\n",
            "2     Jon    13     8             Historia\n",
            "3    Juan    14     9          Matematicas\n",
            "4  Ekaitz    15    10               Ingles\n"
          ]
        }
      ]
    },
    {
      "cell_type": "markdown",
      "metadata": {
        "id": "sss-j-txeNbK"
      },
      "source": [
        "### Ejercicio 2\n",
        "1. Indicar el numero de filas en el fichero\n",
        "2. Incluir un resumen de los datos de la tabla, incluyendo numero de elementos no nulos, tipos de columnas y uso de memoria\n",
        "3. Indicar los valores unicos de la columna \"Asignatura_preferida\". Mirar documentación"
      ]
    },
    {
      "cell_type": "code",
      "source": [
        "filas=len(estudiantes_df)\n",
        "print(filas)"
      ],
      "metadata": {
        "colab": {
          "base_uri": "https://localhost:8080/"
        },
        "id": "hnIDOdCvf0-v",
        "outputId": "68696100-9f1f-4dcf-a157-c41bc72c208d"
      },
      "execution_count": null,
      "outputs": [
        {
          "output_type": "stream",
          "name": "stdout",
          "text": [
            "10\n"
          ]
        }
      ]
    },
    {
      "cell_type": "code",
      "source": [
        "estudiantes_df.info()"
      ],
      "metadata": {
        "colab": {
          "base_uri": "https://localhost:8080/"
        },
        "id": "6_ZMMlPAgUmG",
        "outputId": "47f290ca-3d65-433c-e473-dc85a30d6dfc"
      },
      "execution_count": null,
      "outputs": [
        {
          "output_type": "stream",
          "name": "stdout",
          "text": [
            "<class 'pandas.core.frame.DataFrame'>\n",
            "RangeIndex: 10 entries, 0 to 9\n",
            "Data columns (total 4 columns):\n",
            " #   Column                Non-Null Count  Dtype \n",
            "---  ------                --------------  ----- \n",
            " 0   Nombre                10 non-null     object\n",
            " 1   Edad                  10 non-null     int64 \n",
            " 2   Nota                  10 non-null     int64 \n",
            " 3   Asignatura_preferida  10 non-null     object\n",
            "dtypes: int64(2), object(2)\n",
            "memory usage: 448.0+ bytes\n"
          ]
        }
      ]
    },
    {
      "cell_type": "code",
      "source": [
        "print(estudiantes_df['Asignatura_preferida'].unique())"
      ],
      "metadata": {
        "colab": {
          "base_uri": "https://localhost:8080/"
        },
        "id": "BWRSYhvYhZi7",
        "outputId": "372d7f04-fc52-455e-d24c-0a6796a920a0"
      },
      "execution_count": null,
      "outputs": [
        {
          "output_type": "stream",
          "name": "stdout",
          "text": [
            "['Matematicas' 'Ciencias' 'Historia' 'Ingles']\n"
          ]
        }
      ]
    },
    {
      "cell_type": "markdown",
      "metadata": {
        "id": "YAX2Dv0jeNbL"
      },
      "source": [
        "### Ejercicio 3\n",
        "1. Filtra el DataFrame para mostrar solo a los estudiantes que tienen \"Matemáticas\" como su materia favorita.\n",
        "2. Ordena el DataFrame por \"Nota\" en orden ascendente y muestra el resultado.\n",
        "3. Ordena el DataFrame por \"Nombre\" en orden alfabético y muestra el resultado."
      ]
    },
    {
      "cell_type": "code",
      "source": [
        "print(estudiantes_df['Asignatura_preferida']==\"Matematicas\")"
      ],
      "metadata": {
        "id": "g1b6JSLAjad9"
      },
      "execution_count": null,
      "outputs": []
    },
    {
      "cell_type": "code",
      "source": [
        "print(estudiantes_df.sort_values(\"Nota\"))\n"
      ],
      "metadata": {
        "id": "k228NkDiks-Q"
      },
      "execution_count": null,
      "outputs": []
    },
    {
      "cell_type": "code",
      "source": [
        "print(estudiantes_df.sort_values(\"Nombre\"))"
      ],
      "metadata": {
        "id": "mOGJZT3emT90"
      },
      "execution_count": null,
      "outputs": []
    },
    {
      "cell_type": "markdown",
      "metadata": {
        "id": "9rT19AVheNbL"
      },
      "source": [
        "### Ejercicio 4\n",
        "1. Agrupa el DataFrame por \"Asignatura_favorita\" y calcula la edad promedio para cada grupo.\n",
        "2. Agrupa el DataFrame por \"Nota\" y calcula la cantidad de estudiantes en cada grupo.\n",
        "3. Agrupa el DataFrame por \"Nota\" y \"Asignatura_favorita\" y calcula la cantidad de estudiantes en cada grupo."
      ]
    },
    {
      "cell_type": "code",
      "source": [
        "asignatura_grupo = estudiantes_df.groupby('Asignatura_preferida'['Edad'].mean()\n",
        "print(\"\\Asignatura grupo:\")\n",
        "print(asignatura_grupo)"
      ],
      "metadata": {
        "id": "AOdN4TlImjqa"
      },
      "execution_count": null,
      "outputs": []
    },
    {
      "cell_type": "markdown",
      "metadata": {
        "id": "WRZpQ5tkeNbM"
      },
      "source": [
        "### Ejercicio 5\n",
        "1. Añade una nueva columna llamada \"Tiempo_de_Estudio\" al DataFrame con valores aleatorios entre 1 y 5 (inclusive) para cada estudiante.\n",
        "2. Crea un nuevo DataFrame que contenga solo las columnas \"Nombre\" y \"Tiempo_de_Estudio\" y muestra el resultado.\n",
        "3. Combina el nuevo DataFrame con el DataFrame original en la columna \"Nombre\" y muestra el resultado.\n"
      ]
    },
    {
      "cell_type": "code",
      "source": [
        "import random\n",
        "def random_value(row):\n",
        "    return random.randint(1,5)\n",
        "estudiantes_df['tiempo de estudio']=estudiantes_df.apply(random_value,axis=1)\n",
        "\n",
        "print(estudiantes_df)"
      ],
      "metadata": {
        "id": "02Cot27JoUZV"
      },
      "execution_count": null,
      "outputs": []
    },
    {
      "cell_type": "code",
      "source": [
        "dos_df="
      ],
      "metadata": {
        "id": "UNzLWdvkp4iI"
      },
      "execution_count": null,
      "outputs": []
    },
    {
      "cell_type": "code",
      "source": [
        "merge"
      ],
      "metadata": {
        "id": "-cBm6e6VrNOM"
      },
      "execution_count": null,
      "outputs": []
    },
    {
      "cell_type": "markdown",
      "metadata": {
        "id": "KSsO2l39eNbM"
      },
      "source": [
        "### Ejercicio 6\n",
        "\n",
        "1. Lee el archivo \"sales.csv\" y guarda su contenido en un DataFrame.\n",
        "2. Verifica si hay valores faltantes en el DataFrame.\n",
        "3. Rellena los valores faltantes en la columna \"Nombre_Producto\" con \"Desconocido\".\n",
        "4. Elimina las filas con valores faltantes en las columnas \"Cantidad\" y \"Descuento\"."
      ]
    },
    {
      "cell_type": "code",
      "source": [
        "ventas_df = pd.read_csv(\"ventas.csv\")\n",
        "print (ventas_df)"
      ],
      "metadata": {
        "colab": {
          "base_uri": "https://localhost:8080/"
        },
        "id": "2j9U9UT5rtBS",
        "outputId": "4774ae9a-c993-43bd-e23e-62478276bb4e"
      },
      "execution_count": null,
      "outputs": [
        {
          "output_type": "stream",
          "name": "stdout",
          "text": [
            "        Fecha ID_Producto Nombre_Producto  Precio  Cantidad  Descuento   Total\n",
            "0  2023-01-01        P101       Product A   100.0       5.0       0.10   450.0\n",
            "1  2023-01-02        P102       Product B   200.0       2.0       0.05   380.0\n",
            "2  2023-01-03        P103       Product C   150.0      10.0       0.20  1200.0\n",
            "3  2023-01-04        P104       Product D    50.0      15.0       0.00   750.0\n",
            "4  2023-01-05        P105       Product E   120.0       6.0       0.15   612.0\n",
            "5  2023-01-06        P106             NaN    80.0       8.0       0.10   576.0\n",
            "6  2023-01-07        P107       Product G   250.0       3.0       0.10   675.0\n",
            "7  2023-01-08        P101       Product A   100.0      12.0       0.05  1140.0\n",
            "8  2023-01-09        P102       Product B   200.0       NaN       0.10   720.0\n",
            "9  2023-01-10        P104       Product D    50.0      10.0        NaN   500.0\n"
          ]
        }
      ]
    },
    {
      "cell_type": "code",
      "source": [
        "df_sin_na = ventas_df.fillna('Desconocido')"
      ],
      "metadata": {
        "id": "WSzDiOW4SdFn"
      },
      "execution_count": null,
      "outputs": []
    },
    {
      "cell_type": "code",
      "source": [
        "print(df_sin_na)"
      ],
      "metadata": {
        "id": "XHWjOzUpStl6"
      },
      "execution_count": null,
      "outputs": []
    },
    {
      "cell_type": "code",
      "source": [
        "print(ventas_df['Nombre_producto'].fillna('Desconocido',implace=True))"
      ],
      "metadata": {
        "id": "QlwKcuJCshrX"
      },
      "execution_count": null,
      "outputs": []
    },
    {
      "cell_type": "markdown",
      "source": [],
      "metadata": {
        "id": "LEp0XrsxRnK3"
      }
    },
    {
      "cell_type": "code",
      "source": [
        "#print(ventas_df.dropna(subset='Cantidad','Descuento',implace=True))"
      ],
      "metadata": {
        "id": "NWqWCUHNu_4Q"
      },
      "execution_count": null,
      "outputs": []
    },
    {
      "cell_type": "markdown",
      "metadata": {
        "id": "RRDpr1tqeNbN"
      },
      "source": [
        "### Ejercicio 7\n",
        "\n",
        "1. Convierte la columna \"Fecha\" a un tipo de datos DateTime.\n",
        "2. Extrae el mes y el día de la semana de la columna \"Date\" y añádelos como nuevas columnas \"Mes\" y \n",
        "\"Dia_Semana\" en el DataFrame."
      ]
    },
    {
      "cell_type": "code",
      "source": [
        "import pandas as pd\n",
        "ventas_df['Fecha'] = pd.to_datetime(ventas_df['Fecha'])\n",
        "print(ventas_df)"
      ],
      "metadata": {
        "id": "Uql5JJNRmV8G"
      },
      "execution_count": null,
      "outputs": []
    },
    {
      "cell_type": "code",
      "source": [],
      "metadata": {
        "id": "kE2nmW4eVDnE"
      },
      "execution_count": null,
      "outputs": []
    },
    {
      "cell_type": "code",
      "source": [
        "\n",
        "ventas_df['Mes'] = ventas_df['Fecha'].dt.month\n",
        "ventas_df['Dia Semana'] = ventas_df['Fecha'].dt.dayofweek\n",
        "print(ventas_df)"
      ],
      "metadata": {
        "colab": {
          "base_uri": "https://localhost:8080/"
        },
        "id": "Y_XwXTfova_J",
        "outputId": "bc66694b-8a22-4474-ab98-2d89de27a69d"
      },
      "execution_count": null,
      "outputs": [
        {
          "output_type": "stream",
          "name": "stdout",
          "text": [
            "       Fecha ID_Producto Nombre_Producto  Precio  Cantidad  Descuento   Total  \\\n",
            "0 2023-01-01        P101       Product A   100.0       5.0       0.10   450.0   \n",
            "1 2023-01-02        P102       Product B   200.0       2.0       0.05   380.0   \n",
            "2 2023-01-03        P103       Product C   150.0      10.0       0.20  1200.0   \n",
            "3 2023-01-04        P104       Product D    50.0      15.0       0.00   750.0   \n",
            "4 2023-01-05        P105       Product E   120.0       6.0       0.15   612.0   \n",
            "5 2023-01-06        P106             NaN    80.0       8.0       0.10   576.0   \n",
            "6 2023-01-07        P107       Product G   250.0       3.0       0.10   675.0   \n",
            "7 2023-01-08        P101       Product A   100.0      12.0       0.05  1140.0   \n",
            "8 2023-01-09        P102       Product B   200.0       NaN       0.10   720.0   \n",
            "9 2023-01-10        P104       Product D    50.0      10.0        NaN   500.0   \n",
            "\n",
            "   Mes  Dia  Dia Semana  \n",
            "0    1    1           6  \n",
            "1    1    2           0  \n",
            "2    1    3           1  \n",
            "3    1    4           2  \n",
            "4    1    5           3  \n",
            "5    1    6           4  \n",
            "6    1    7           5  \n",
            "7    1    8           6  \n",
            "8    1    9           0  \n",
            "9    1   10           1  \n"
          ]
        }
      ]
    },
    {
      "cell_type": "code",
      "source": [
        "print(pd.__version__)"
      ],
      "metadata": {
        "colab": {
          "base_uri": "https://localhost:8080/"
        },
        "id": "kmDI_7UMXVO8",
        "outputId": "628e9fa3-8bfb-44aa-cbad-d3dc239f6526"
      },
      "execution_count": null,
      "outputs": [
        {
          "output_type": "stream",
          "name": "stdout",
          "text": [
            "1.5.3\n"
          ]
        }
      ]
    },
    {
      "cell_type": "markdown",
      "metadata": {
        "id": "d3FjQzqxeNbN"
      },
      "source": [
        "### Ejercicio 8: Estadísticas descriptivas\n",
        "\n",
        "1. Calcula las estadísticas descriptivas para las columnas \"Precio\", \"Cantidad\", \"Descuento\" y \"Total\".\n",
        "2. Calcula las ventas totales de cada producto y ordena los resultados en orden descendente."
      ]
    },
    {
      "cell_type": "code",
      "source": [
        "print(ventas_df[[\"Precio\", \"Cantidad\", \"Descuento\",\"Total\"]].describe)\n"
      ],
      "metadata": {
        "id": "DqybssPLW8I1"
      },
      "execution_count": null,
      "outputs": []
    },
    {
      "cell_type": "code",
      "source": [
        "tot=ventas_df.groupby('ID_Producto')['Total'].sum().sort_values(ascending=False)\n",
        "print(tot)"
      ],
      "metadata": {
        "id": "wJcgLSTjbpA1"
      },
      "execution_count": null,
      "outputs": []
    },
    {
      "cell_type": "markdown",
      "metadata": {
        "id": "OOe8XR7heNbO"
      },
      "source": [
        "\n",
        "### Ejercicio 9: Transformación de datos\n",
        "\n",
        "1. Aplica una función lambda a la columna \"Precio\" para aumentar el precio en un 10%.\n",
        "2. Crea una nueva columna llamada \"Ingresos\" multiplicando las columnas \"Cantidad\" y \"Precio\", teniendo en cuenta el \"Descuento\"."
      ]
    },
    {
      "cell_type": "code",
      "source": [
        "print (ventas_df)\n",
        "ventas_df['Precio'ventas_df['Precio_desc'] = ].apply(lambda x: x + x*10/100)\n",
        "print (ventas_df)"
      ],
      "metadata": {
        "id": "MYWwQz4CfbXk"
      },
      "execution_count": null,
      "outputs": []
    },
    {
      "cell_type": "code",
      "source": [
        "ventas_df['Ingresos'] = ventas_df['Cantidad']*ventas_df['Precio_desc']\n",
        "print (ventas_df)"
      ],
      "metadata": {
        "id": "S9TJJH7ogoSg"
      },
      "execution_count": null,
      "outputs": []
    },
    {
      "cell_type": "markdown",
      "metadata": {
        "id": "8FDre5gQeNbO"
      },
      "source": [
        "\n",
        "### Ejercicio 10: Indexación de varios niveles\n",
        "\n",
        "1. Agrupa el DataFrame por \"ID_Producto\" y \"Date\" y calcula la suma de la columna \"Total\" para cada grupo.\n",
        "2. Convierte el DataFrame de índice de múltiples niveles en un formato amplio donde cada fila representa un \"ID_Producto\" y las columnas son las fechas."
      ]
    },
    {
      "cell_type": "code",
      "source": [
        "print(ventas_df)\n",
        "tot=ventas_df.groupby(by=['ID_Producto','Fecha'])['Total'].sum().sort_values(ascending=False)\n",
        "print(tot)"
      ],
      "metadata": {
        "id": "iulZVrl8hqFF"
      },
      "execution_count": null,
      "outputs": []
    },
    {
      "cell_type": "code",
      "source": [
        "df_amplia=ventas_df.pivot(index='ID_Producto',columns='Fecha', values='Total')\n",
        "print(df_amplia)"
      ],
      "metadata": {
        "id": "AuNq78ZTo5fe"
      },
      "execution_count": null,
      "outputs": []
    },
    {
      "cell_type": "markdown",
      "metadata": {
        "id": "KN1Eo81WeNbP"
      },
      "source": [
        "### Ejercicio 11\n",
        "\n",
        "1. Leer los archivos \"clientes.csv\" y \"compras.csv\" y almacenarlos en DataFrames.\n",
        "2. Cruzar los datos de ambos DataFrames utilizando la columna \"ID_Cliente\" como clave."
      ]
    },
    {
      "cell_type": "code",
      "source": [
        "clientes_df = pd.read_csv(\"clientes.csv\")\n",
        "compras_df = pd.read_csv(\"compras.csv\")\n",
        "print(clientes_df)\n",
        "print(compras_df)\n",
        "print\n",
        "df = compras_df.merge(clientes_df,on='ID_Cliente')\n",
        "print (df)"
      ],
      "metadata": {
        "colab": {
          "base_uri": "https://localhost:8080/"
        },
        "id": "Baj_LCN3rvUN",
        "outputId": "f020ea0d-b1bf-40a4-f2e2-8648be0548a3"
      },
      "execution_count": 3,
      "outputs": [
        {
          "output_type": "stream",
          "name": "stdout",
          "text": [
            "   ID_Cliente Nombre  Edad Genero     Ciudad\n",
            "0           1   Luis    35      M  Barcelona\n",
            "1           2  María    28      F     Madrid\n",
            "2           3    Ana    42      F   Valencia\n",
            "3           4  Pedro    53      M    Sevilla\n",
            "4           5   Juan    31      M  Barcelona\n",
            "   ID_Compra  ID_Cliente       Fecha  Importe\n",
            "0          1           1  2023-01-05    100.0\n",
            "1          2           2  2023-01-10    200.0\n",
            "2          3           3  2023-01-12    150.0\n",
            "3          4           4  2023-01-15     50.0\n",
            "4          5           5  2023-01-20    120.0\n",
            "5          6           1  2023-01-25     80.0\n",
            "6          7           3  2023-01-30    250.0\n",
            "7          8           2  2023-02-02     90.0\n",
            "8          9           4  2023-02-10    180.0\n",
            "   ID_Compra  ID_Cliente       Fecha  Importe Nombre  Edad Genero     Ciudad\n",
            "0          1           1  2023-01-05    100.0   Luis    35      M  Barcelona\n",
            "1          6           1  2023-01-25     80.0   Luis    35      M  Barcelona\n",
            "2          2           2  2023-01-10    200.0  María    28      F     Madrid\n",
            "3          8           2  2023-02-02     90.0  María    28      F     Madrid\n",
            "4          3           3  2023-01-12    150.0    Ana    42      F   Valencia\n",
            "5          7           3  2023-01-30    250.0    Ana    42      F   Valencia\n",
            "6          4           4  2023-01-15     50.0  Pedro    53      M    Sevilla\n",
            "7          9           4  2023-02-10    180.0  Pedro    53      M    Sevilla\n",
            "8          5           5  2023-01-20    120.0   Juan    31      M  Barcelona\n"
          ]
        }
      ]
    },
    {
      "cell_type": "markdown",
      "metadata": {
        "id": "X3JJUR_keNbP"
      },
      "source": [
        "### Ejercicio 12\n",
        "\n",
        "1. Filtrar el DataFrame resultante para mostrar solo las compras realizadas por clientes de \"Barcelona\".\n",
        "2. Calcular el importe total gastado por cada cliente."
      ]
    },
    {
      "cell_type": "code",
      "source": [
        "TF=df[(df['Ciudad']=='Barcelona')]\n",
        "print(TF)"
      ],
      "metadata": {
        "id": "dn3gmVEmtPzJ",
        "colab": {
          "base_uri": "https://localhost:8080/"
        },
        "outputId": "ce97fcda-2ff7-465c-b07d-9ead557dd189"
      },
      "execution_count": 4,
      "outputs": [
        {
          "output_type": "stream",
          "name": "stdout",
          "text": [
            "   ID_Compra  ID_Cliente       Fecha  Importe Nombre  Edad Genero     Ciudad\n",
            "0          1           1  2023-01-05    100.0   Luis    35      M  Barcelona\n",
            "1          6           1  2023-01-25     80.0   Luis    35      M  Barcelona\n",
            "8          5           5  2023-01-20    120.0   Juan    31      M  Barcelona\n"
          ]
        }
      ]
    },
    {
      "cell_type": "code",
      "source": [
        "imp_clte=df.groupby(['ID_Cliente','Nombre'])['Importe'].sum()\n",
        "print(imp_clte)"
      ],
      "metadata": {
        "colab": {
          "base_uri": "https://localhost:8080/"
        },
        "id": "LjOUU1BlubyV",
        "outputId": "77fcc259-be8f-4141-e208-26a3388c4469"
      },
      "execution_count": 5,
      "outputs": [
        {
          "output_type": "stream",
          "name": "stdout",
          "text": [
            "ID_Cliente  Nombre\n",
            "1           Luis      180.0\n",
            "2           María     290.0\n",
            "3           Ana       400.0\n",
            "4           Pedro     230.0\n",
            "5           Juan      120.0\n",
            "Name: Importe, dtype: float64\n"
          ]
        }
      ]
    },
    {
      "cell_type": "markdown",
      "metadata": {
        "id": "ws5alWzreNbP"
      },
      "source": [
        "### Ejercicio 13: Transformar y guardar datos en un nuevo archivo CSV\n",
        "\n",
        "1. Crear una columna nueva que muestre la categoría de gasto (\"Bajo\", \"Medio\" o \"Alto\") basándose en el importe de cada compra.\n",
        "2. Guardar el DataFrame resultante en un nuevo archivo CSV llamado \"compras_categorizadas.csv\"."
      ]
    },
    {
      "cell_type": "code",
      "source": [
        "import pandas as pd\n",
        "\n",
        "def categ(importe):\n",
        "  if importe < 100:\n",
        "    return 'Bajo'\n",
        "  elif importe < 200:\n",
        "    return 'medio'\n",
        "  else: \n",
        "    return 'alto'\n",
        "\n",
        "df['Nueva']=df['Importe'].apply(categ)\n",
        "print(df)"
      ],
      "metadata": {
        "id": "JgIQ2CTsvicS",
        "colab": {
          "base_uri": "https://localhost:8080/"
        },
        "outputId": "c5218d13-c8b1-4c2b-ae8c-d89bc8c04b98"
      },
      "execution_count": 6,
      "outputs": [
        {
          "output_type": "stream",
          "name": "stdout",
          "text": [
            "   ID_Compra  ID_Cliente       Fecha  Importe Nombre  Edad Genero     Ciudad  \\\n",
            "0          1           1  2023-01-05    100.0   Luis    35      M  Barcelona   \n",
            "1          6           1  2023-01-25     80.0   Luis    35      M  Barcelona   \n",
            "2          2           2  2023-01-10    200.0  María    28      F     Madrid   \n",
            "3          8           2  2023-02-02     90.0  María    28      F     Madrid   \n",
            "4          3           3  2023-01-12    150.0    Ana    42      F   Valencia   \n",
            "5          7           3  2023-01-30    250.0    Ana    42      F   Valencia   \n",
            "6          4           4  2023-01-15     50.0  Pedro    53      M    Sevilla   \n",
            "7          9           4  2023-02-10    180.0  Pedro    53      M    Sevilla   \n",
            "8          5           5  2023-01-20    120.0   Juan    31      M  Barcelona   \n",
            "\n",
            "   Nueva  \n",
            "0  medio  \n",
            "1   Bajo  \n",
            "2   alto  \n",
            "3   Bajo  \n",
            "4  medio  \n",
            "5   alto  \n",
            "6   Bajo  \n",
            "7  medio  \n",
            "8  medio  \n"
          ]
        }
      ]
    },
    {
      "cell_type": "code",
      "source": [
        "df.to_csv('comprasCat.csv', index=False)"
      ],
      "metadata": {
        "id": "FqfM9nuFzcX1"
      },
      "execution_count": null,
      "outputs": []
    },
    {
      "cell_type": "markdown",
      "metadata": {
        "id": "ME5sXLrheNbQ"
      },
      "source": [
        "### Ejercicio 14\n",
        "Utilizando los archivos \"clientes.csv\" y \"compras.csv\" proporcionados anteriormente, realiza las siguientes tareas:\n",
        "\n",
        "1. Calcular el importe total de ventas por producto.\n",
        "2. Calcular el importe total de ventas por ciudad.\n",
        "3. Encontrar el cliente con el mayor gasto en cada ciudad.\n",
        "4. Calcular el importe promedio de ventas por género y por ciudad.\n"
      ]
    },
    {
      "cell_type": "code",
      "source": [],
      "metadata": {
        "id": "DSd7U5Kaz-TL"
      },
      "execution_count": null,
      "outputs": []
    }
  ],
  "metadata": {
    "kernelspec": {
      "display_name": "Python 3",
      "language": "python",
      "name": "python3"
    },
    "language_info": {
      "codemirror_mode": {
        "name": "ipython",
        "version": 3
      },
      "file_extension": ".py",
      "mimetype": "text/x-python",
      "name": "python",
      "nbconvert_exporter": "python",
      "pygments_lexer": "ipython3",
      "version": "3.9.1"
    },
    "orig_nbformat": 4,
    "colab": {
      "provenance": []
    }
  },
  "nbformat": 4,
  "nbformat_minor": 0
}